{
 "cells": [
  {
   "cell_type": "code",
   "execution_count": 3,
   "metadata": {},
   "outputs": [
    {
     "name": "stdout",
     "output_type": "stream",
     "text": [
      "database connected\n",
      "3850\n"
     ]
    }
   ],
   "source": [
    "import sqlite3\n",
    "\n",
    "#db_path = 'data/articles0.db'\n",
    "db_path = 'data/plos_cb_abstracts.db'\n",
    "\n",
    "# connect to the database\n",
    "db = sqlite3.connect(db_path)\n",
    "print('database connected')\n",
    "\n",
    "# grab an entry\n",
    "cursor = db.cursor()\n",
    "\n",
    "cursor.execute(\"SELECT * FROM plos_cb_abstracts\")\n",
    "\n",
    "rows = cursor.fetchall()\n",
    "print len(rows)\n",
    "#for row in rows:\n",
    "#    print(row)\n",
    "\n",
    "\n",
    "\n"
   ]
  },
  {
   "cell_type": "code",
   "execution_count": null,
   "metadata": {},
   "outputs": [],
   "source": []
  }
 ],
 "metadata": {
  "kernelspec": {
   "display_name": "Python 2",
   "language": "python",
   "name": "python2"
  },
  "language_info": {
   "codemirror_mode": {
    "name": "ipython",
    "version": 2
   },
   "file_extension": ".py",
   "mimetype": "text/x-python",
   "name": "python",
   "nbconvert_exporter": "python",
   "pygments_lexer": "ipython2",
   "version": "2.7.13"
  }
 },
 "nbformat": 4,
 "nbformat_minor": 2
}

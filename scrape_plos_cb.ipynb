{
 "cells": [
  {
   "cell_type": "code",
   "execution_count": 3,
   "metadata": {},
   "outputs": [],
   "source": [
    "import sys, signal\n",
    "from PyQt4 import QtCore, QtGui, QtWebKit\n",
    "\n",
    "class WebPage(QtWebKit.QWebPage):  \n",
    "    def __init__(self, db):\n",
    "        self._db = db\n",
    "        QtWebKit.QWebPage.__init__(self)\n",
    "        self.mainFrame().loadFinished.connect(self.handleLoadFinished)\n",
    "\n",
    "    def process(self, items):\n",
    "        self._items = iter(items)\n",
    "        self.fetchNext()\n",
    "    \n",
    "    def fetchNext(self):\n",
    "        try:\n",
    "            self._url, self._func = next(self._items)\n",
    "            self.mainFrame().load(QtCore.QUrl(self._url))\n",
    "        except StopIteration:\n",
    "            return False\n",
    "        return True\n",
    "    \n",
    "    def handleLoadFinished(self):\n",
    "        self._func(self._url, self.mainFrame().toHtml())\n",
    "        if not self.fetchNext():\n",
    "            print('# processing complete')\n",
    "            QtGui.qApp.quit()\n",
    "            \n",
    "def funcA(url, html):\n",
    "    print('# processing:', url)\n",
    "    # do stuff with soup\n",
    "    \n",
    "def funcB(url, html):\n",
    "    print('# processing:', url)\n",
    "    # do stuff with soup\n",
    "    "
   ]
  },
  {
   "cell_type": "code",
   "execution_count": 4,
   "metadata": {},
   "outputs": [
    {
     "ename": "IOError",
     "evalue": "[Errno 2] No such file or directory: 'data/ploscompbio_editions.json'",
     "output_type": "error",
     "traceback": [
      "\u001b[1;31m---------------------------------------------------------------------------\u001b[0m",
      "\u001b[1;31mIOError\u001b[0m                                   Traceback (most recent call last)",
      "\u001b[1;32m<ipython-input-4-3a4dc2ecfa50>\u001b[0m in \u001b[0;36m<module>\u001b[1;34m()\u001b[0m\n\u001b[0;32m      5\u001b[0m \u001b[0mload_path\u001b[0m \u001b[1;33m=\u001b[0m \u001b[1;34m\"data/ploscompbio_editions.json\"\u001b[0m\u001b[1;33m\u001b[0m\u001b[0m\n\u001b[0;32m      6\u001b[0m \u001b[1;33m\u001b[0m\u001b[0m\n\u001b[1;32m----> 7\u001b[1;33m \u001b[1;32mwith\u001b[0m \u001b[0mopen\u001b[0m\u001b[1;33m(\u001b[0m\u001b[0mload_path\u001b[0m\u001b[1;33m,\u001b[0m \u001b[1;34m'r'\u001b[0m\u001b[1;33m)\u001b[0m \u001b[1;32mas\u001b[0m \u001b[0minfile\u001b[0m\u001b[1;33m:\u001b[0m\u001b[1;33m\u001b[0m\u001b[0m\n\u001b[0m\u001b[0;32m      8\u001b[0m     \u001b[0mlist_of_editions\u001b[0m \u001b[1;33m=\u001b[0m \u001b[0mjson\u001b[0m\u001b[1;33m.\u001b[0m\u001b[0mload\u001b[0m\u001b[1;33m(\u001b[0m\u001b[0minfile\u001b[0m\u001b[1;33m)\u001b[0m\u001b[1;33m\u001b[0m\u001b[0m\n\u001b[0;32m      9\u001b[0m \u001b[1;33m\u001b[0m\u001b[0m\n",
      "\u001b[1;31mIOError\u001b[0m: [Errno 2] No such file or directory: 'data/ploscompbio_editions.json'"
     ]
    }
   ],
   "source": [
    "# load the list of editions conveniently saved as json\n",
    "\n",
    "import json\n",
    "\n",
    "load_path = \"data/ploscompbio_editions.json\"\n",
    "\n",
    "with open(load_path, 'r') as infile:  \n",
    "    list_of_editions = json.load(infile)\n",
    "    \n",
    "print(list_of_editions)"
   ]
  },
  {
   "cell_type": "code",
   "execution_count": null,
   "metadata": {},
   "outputs": [],
   "source": [
    "def process_url(url,html):\n",
    "    print(url)\n",
    "    print('testing processing pipeline')\n",
    "    "
   ]
  },
  {
   "cell_type": "code",
   "execution_count": null,
   "metadata": {},
   "outputs": [],
   "source": [
    "# initialize database\n",
    "\n",
    "import sqlite3\n",
    "\n",
    "db = sqlite3.connect('data/articles2.db')\n",
    "cursor = db.cursor()\n",
    "cursor.execute('''CREATE TABLE articles2(id INTEGER PRIMARYKEY,\n",
    "                    url TEXT, authors TEXT, date TEXT, title TEXT, abstract TEXT, author_summary TEXT)\n",
    "                    ''')\n",
    "\n",
    "\n",
    "db.commit()\n"
   ]
  },
  {
   "cell_type": "code",
   "execution_count": null,
   "metadata": {},
   "outputs": [],
   "source": [
    "edition_urls = [ed['url'] for ed in list_of_editions]\n",
    "edition_urls = edition_urls\n",
    "\n",
    "items = [ (url,process_url) for url in edition_urls]\n",
    "\n",
    "signal.signal(signal.SIGINT, signal.SIG_DFL)\n",
    "print('press ctrl+c to quit\\n')\n",
    "app = QtGui.QApplication(sys.argv)\n",
    "webpage = WebPage(db)\n",
    "webpage.process(items)\n",
    "sys.exit(app.exec_())\n"
   ]
  },
  {
   "cell_type": "code",
   "execution_count": null,
   "metadata": {},
   "outputs": [],
   "source": []
  }
 ],
 "metadata": {
  "kernelspec": {
   "display_name": "Python 2",
   "language": "python",
   "name": "python2"
  },
  "language_info": {
   "codemirror_mode": {
    "name": "ipython",
    "version": 2
   },
   "file_extension": ".py",
   "mimetype": "text/x-python",
   "name": "python",
   "nbconvert_exporter": "python",
   "pygments_lexer": "ipython2",
   "version": "2.7.13"
  }
 },
 "nbformat": 4,
 "nbformat_minor": 2
}

{
 "cells": [
  {
   "cell_type": "code",
   "execution_count": 36,
   "metadata": {},
   "outputs": [],
   "source": [
    "# make an sql database, practice some operations\n",
    "\n",
    "# test data: (not using this currently)\n",
    "\n",
    "article1 = {'author':'Jeff', 'title':'the psychedlic experience of practical knowledge','date':'today'}\n",
    "article2 = {'author':'Jason', 'title':'stability as an act of radical direct action','date':'tomorrow'}\n",
    "article3 = {'author':'Jared', 'title':'the wind at your face: bicyle riding as a metaphor for lived experience','date':'yesterday'}\n",
    "\n"
   ]
  },
  {
   "cell_type": "code",
   "execution_count": 37,
   "metadata": {},
   "outputs": [
    {
     "name": "stdout",
     "output_type": "stream",
     "text": [
      "database connected\n"
     ]
    }
   ],
   "source": [
    "import sqlite3\n",
    "db = sqlite3.connect('data/test2.db')\n",
    "\n",
    "print('database connected')"
   ]
  },
  {
   "cell_type": "code",
   "execution_count": 38,
   "metadata": {},
   "outputs": [
    {
     "name": "stdout",
     "output_type": "stream",
     "text": [
      "database closed\n"
     ]
    }
   ],
   "source": [
    "cursor = db.cursor()\n",
    "cursor.execute('''CREATE TABLE fakearticles(id INTEGER PRIMARYKEY,\n",
    "                    title TEXT, author TEXT, date TEXT)\n",
    "                    ''')\n",
    "\n",
    "db.commit()\n",
    "db.close()\n",
    "\n",
    "print('database closed')"
   ]
  },
  {
   "cell_type": "code",
   "execution_count": 32,
   "metadata": {},
   "outputs": [],
   "source": [
    "# how to drop / delete the db:\n",
    "\n",
    "\n",
    "#db = sqlite3.connect('data/test.db')\n",
    "#cursor = db.cursor()\n",
    "#cursor.execute('''DROP TABLE books''')\n",
    "#db.commit()\n",
    "\n",
    "#print 'database dropped'"
   ]
  },
  {
   "cell_type": "code",
   "execution_count": 42,
   "metadata": {},
   "outputs": [
    {
     "name": "stdout",
     "output_type": "stream",
     "text": [
      "entry added using tuple format\n"
     ]
    }
   ],
   "source": [
    "# insert entry using tuple\n",
    "\n",
    "db = sqlite3.connect('data/test2.db')\n",
    "cursor = db.cursor()\n",
    "\n",
    "title = article1['title']\n",
    "author = article1['author']\n",
    "date = article1['date']\n",
    "\n",
    "cursor.execute('''INSERT INTO fakearticles(title, author, date)\n",
    "                VALUES(?,?,?)''', (title, author, date))\n",
    "\n",
    "db.commit()\n",
    "\n",
    "print('entry added using tuple format')\n",
    "\n",
    "# note: you can add a list of tuples by using cursor.executemany\n"
   ]
  },
  {
   "cell_type": "code",
   "execution_count": 44,
   "metadata": {},
   "outputs": [
    {
     "name": "stdout",
     "output_type": "stream",
     "text": [
      "entry added using dictionary format\n"
     ]
    }
   ],
   "source": [
    "# insert entry using dictionary\n",
    "\n",
    "cursor.execute('''INSERT INTO fakearticles(title, author, date)\n",
    "                VALUES(:title, :author, :date)''',\n",
    "              article2)\n",
    "\n",
    "db.commit()\n",
    "\n",
    "print('entry added using dictionary format')\n",
    "\n"
   ]
  },
  {
   "cell_type": "code",
   "execution_count": 45,
   "metadata": {},
   "outputs": [],
   "source": [
    "db.close()"
   ]
  },
  {
   "cell_type": "code",
   "execution_count": null,
   "metadata": {},
   "outputs": [],
   "source": []
  }
 ],
 "metadata": {
  "kernelspec": {
   "display_name": "Python 2",
   "language": "python",
   "name": "python2"
  },
  "language_info": {
   "codemirror_mode": {
    "name": "ipython",
    "version": 2
   },
   "file_extension": ".py",
   "mimetype": "text/x-python",
   "name": "python",
   "nbconvert_exporter": "python",
   "pygments_lexer": "ipython2",
   "version": "2.7.13"
  }
 },
 "nbformat": 4,
 "nbformat_minor": 2
}

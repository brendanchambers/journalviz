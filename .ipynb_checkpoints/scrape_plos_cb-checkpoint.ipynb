{
 "cells": [
  {
   "cell_type": "code",
   "execution_count": 1,
   "metadata": {},
   "outputs": [],
   "source": [
    "import sys, signal\n",
    "from PyQt4 import QtCore, QtGui, QtWebKit\n",
    "\n",
    "class WebPage(QtWebKit.QWebPage):  \n",
    "    def __init__(self, db):\n",
    "        self._db = db\n",
    "        QtWebKit.QWebPage.__init__(self)\n",
    "        self.mainFrame().loadFinished.connect(self.handleLoadFinished)\n",
    "\n",
    "    def process(self, items):\n",
    "        self._items = iter(items)\n",
    "        self.fetchNext()\n",
    "    \n",
    "    def fetchNext(self):\n",
    "        try:\n",
    "            self._url, self._func = next(self._items)\n",
    "            self.mainFrame().load(QtCore.QUrl(self._url))\n",
    "        except StopIteration:\n",
    "            return False\n",
    "        return True\n",
    "    \n",
    "    def handleLoadFinished(self):\n",
    "        self._func(self._url, self.mainFrame().toHtml())\n",
    "        if not self.fetchNext():\n",
    "            print('# processing complete')\n",
    "            QtGui.qApp.quit()\n",
    "            \n",
    "def funcA(url, html):\n",
    "    print('# processing:', url)\n",
    "    # do stuff with soup\n",
    "    \n",
    "def funcB(url, html):\n",
    "    print('# processing:', url)\n",
    "    # do stuff with soup\n",
    "    "
   ]
  },
  {
   "cell_type": "code",
   "execution_count": 2,
   "metadata": {},
   "outputs": [
    {
     "name": "stdout",
     "output_type": "stream",
     "text": [
      "[{u'url': u'http://journals.plos.org/ploscompbiol/issue?id=10.1371/issue.pcbi.v14.i01', u'year': 2018, u'month': u'January'}, {u'url': u'http://journals.plos.org/ploscompbiol/issue?id=10.1371/issue.pcbi.v14.i02', u'year': 2018, u'month': u'February'}, {u'url': u'http://journals.plos.org/ploscompbiol/issue?id=10.1371/issue.pcbi.v14.i03', u'year': 2018, u'month': u'March'}, {u'url': u'http://journals.plos.org/ploscompbiol/issue?id=10.1371/issue.pcbi.v14.i04', u'year': 2018, u'month': u'April'}, {u'url': u'http://journals.plos.org/ploscompbiol/issue?id=10.1371/issue.pcbi.v14.i05', u'year': 2018, u'month': u'May'}, {u'url': u'http://journals.plos.org/ploscompbiol/issue?id=10.1371/issue.pcbi.v14.i06', u'year': 2018, u'month': u'June'}, {u'url': u'http://journals.plos.org/ploscompbiol/issue?id=10.1371/issue.pcbi.v14.i07', u'year': 2018, u'month': u'July'}, {u'url': u'http://journals.plos.org/ploscompbiol/issue?id=10.1371/issue.pcbi.v13.i01', u'year': 2017, u'month': u'January'}, {u'url': u'http://journals.plos.org/ploscompbiol/issue?id=10.1371/issue.pcbi.v13.i02', u'year': 2017, u'month': u'February'}, {u'url': u'http://journals.plos.org/ploscompbiol/issue?id=10.1371/issue.pcbi.v13.i03', u'year': 2017, u'month': u'March'}, {u'url': u'http://journals.plos.org/ploscompbiol/issue?id=10.1371/issue.pcbi.v13.i04', u'year': 2017, u'month': u'April'}, {u'url': u'http://journals.plos.org/ploscompbiol/issue?id=10.1371/issue.pcbi.v13.i05', u'year': 2017, u'month': u'May'}, {u'url': u'http://journals.plos.org/ploscompbiol/issue?id=10.1371/issue.pcbi.v13.i06', u'year': 2017, u'month': u'June'}, {u'url': u'http://journals.plos.org/ploscompbiol/issue?id=10.1371/issue.pcbi.v13.i07', u'year': 2017, u'month': u'July'}, {u'url': u'http://journals.plos.org/ploscompbiol/issue?id=10.1371/issue.pcbi.v13.i08', u'year': 2017, u'month': u'August'}, {u'url': u'http://journals.plos.org/ploscompbiol/issue?id=10.1371/issue.pcbi.v13.i09', u'year': 2017, u'month': u'September'}, {u'url': u'http://journals.plos.org/ploscompbiol/issue?id=10.1371/issue.pcbi.v13.i10', u'year': 2017, u'month': u'October'}, {u'url': u'http://journals.plos.org/ploscompbiol/issue?id=10.1371/issue.pcbi.v13.i11', u'year': 2017, u'month': u'November'}, {u'url': u'http://journals.plos.org/ploscompbiol/issue?id=10.1371/issue.pcbi.v13.i12', u'year': 2017, u'month': u'December'}, {u'url': u'http://journals.plos.org/ploscompbiol/issue?id=10.1371/issue.pcbi.v12.i01', u'year': 2016, u'month': u'January'}, {u'url': u'http://journals.plos.org/ploscompbiol/issue?id=10.1371/issue.pcbi.v12.i02', u'year': 2016, u'month': u'February'}, {u'url': u'http://journals.plos.org/ploscompbiol/issue?id=10.1371/issue.pcbi.v12.i03', u'year': 2016, u'month': u'March'}, {u'url': u'http://journals.plos.org/ploscompbiol/issue?id=10.1371/issue.pcbi.v12.i04', u'year': 2016, u'month': u'April'}, {u'url': u'http://journals.plos.org/ploscompbiol/issue?id=10.1371/issue.pcbi.v12.i05', u'year': 2016, u'month': u'May'}, {u'url': u'http://journals.plos.org/ploscompbiol/issue?id=10.1371/issue.pcbi.v12.i06', u'year': 2016, u'month': u'June'}, {u'url': u'http://journals.plos.org/ploscompbiol/issue?id=10.1371/issue.pcbi.v12.i07', u'year': 2016, u'month': u'July'}, {u'url': u'http://journals.plos.org/ploscompbiol/issue?id=10.1371/issue.pcbi.v12.i08', u'year': 2016, u'month': u'August'}, {u'url': u'http://journals.plos.org/ploscompbiol/issue?id=10.1371/issue.pcbi.v12.i09', u'year': 2016, u'month': u'September'}, {u'url': u'http://journals.plos.org/ploscompbiol/issue?id=10.1371/issue.pcbi.v12.i10', u'year': 2016, u'month': u'October'}, {u'url': u'http://journals.plos.org/ploscompbiol/issue?id=10.1371/issue.pcbi.v12.i11', u'year': 2016, u'month': u'November'}, {u'url': u'http://journals.plos.org/ploscompbiol/issue?id=10.1371/issue.pcbi.v12.i12', u'year': 2016, u'month': u'December'}, {u'url': u'http://journals.plos.org/ploscompbiol/issue?id=10.1371/issue.pcbi.v11.i01', u'year': 2015, u'month': u'January'}, {u'url': u'http://journals.plos.org/ploscompbiol/issue?id=10.1371/issue.pcbi.v11.i02', u'year': 2015, u'month': u'February'}, {u'url': u'http://journals.plos.org/ploscompbiol/issue?id=10.1371/issue.pcbi.v11.i03', u'year': 2015, u'month': u'March'}, {u'url': u'http://journals.plos.org/ploscompbiol/issue?id=10.1371/issue.pcbi.v11.i04', u'year': 2015, u'month': u'April'}, {u'url': u'http://journals.plos.org/ploscompbiol/issue?id=10.1371/issue.pcbi.v11.i05', u'year': 2015, u'month': u'May'}, {u'url': u'http://journals.plos.org/ploscompbiol/issue?id=10.1371/issue.pcbi.v11.i06', u'year': 2015, u'month': u'June'}, {u'url': u'http://journals.plos.org/ploscompbiol/issue?id=10.1371/issue.pcbi.v11.i07', u'year': 2015, u'month': u'July'}, {u'url': u'http://journals.plos.org/ploscompbiol/issue?id=10.1371/issue.pcbi.v11.i08', u'year': 2015, u'month': u'August'}, {u'url': u'http://journals.plos.org/ploscompbiol/issue?id=10.1371/issue.pcbi.v11.i09', u'year': 2015, u'month': u'September'}, {u'url': u'http://journals.plos.org/ploscompbiol/issue?id=10.1371/issue.pcbi.v11.i10', u'year': 2015, u'month': u'October'}, {u'url': u'http://journals.plos.org/ploscompbiol/issue?id=10.1371/issue.pcbi.v11.i11', u'year': 2015, u'month': u'November'}, {u'url': u'http://journals.plos.org/ploscompbiol/issue?id=10.1371/issue.pcbi.v11.i12', u'year': 2015, u'month': u'December'}, {u'url': u'http://journals.plos.org/ploscompbiol/issue?id=10.1371/issue.pcbi.v10.i01', u'year': 2014, u'month': u'January'}, {u'url': u'http://journals.plos.org/ploscompbiol/issue?id=10.1371/issue.pcbi.v10.i02', u'year': 2014, u'month': u'February'}, {u'url': u'http://journals.plos.org/ploscompbiol/issue?id=10.1371/issue.pcbi.v10.i03', u'year': 2014, u'month': u'March'}, {u'url': u'http://journals.plos.org/ploscompbiol/issue?id=10.1371/issue.pcbi.v10.i04', u'year': 2014, u'month': u'April'}, {u'url': u'http://journals.plos.org/ploscompbiol/issue?id=10.1371/issue.pcbi.v10.i05', u'year': 2014, u'month': u'May'}, {u'url': u'http://journals.plos.org/ploscompbiol/issue?id=10.1371/issue.pcbi.v10.i06', u'year': 2014, u'month': u'June'}, {u'url': u'http://journals.plos.org/ploscompbiol/issue?id=10.1371/issue.pcbi.v10.i07', u'year': 2014, u'month': u'July'}, {u'url': u'http://journals.plos.org/ploscompbiol/issue?id=10.1371/issue.pcbi.v10.i08', u'year': 2014, u'month': u'August'}, {u'url': u'http://journals.plos.org/ploscompbiol/issue?id=10.1371/issue.pcbi.v10.i09', u'year': 2014, u'month': u'September'}, {u'url': u'http://journals.plos.org/ploscompbiol/issue?id=10.1371/issue.pcbi.v10.i10', u'year': 2014, u'month': u'October'}, {u'url': u'http://journals.plos.org/ploscompbiol/issue?id=10.1371/issue.pcbi.v10.i11', u'year': 2014, u'month': u'November'}, {u'url': u'http://journals.plos.org/ploscompbiol/issue?id=10.1371/issue.pcbi.v10.i12', u'year': 2014, u'month': u'December'}, {u'url': u'http://journals.plos.org/ploscompbiol/issue?id=10.1371/issue.pcbi.v09.i01', u'year': 2013, u'month': u'January'}, {u'url': u'http://journals.plos.org/ploscompbiol/issue?id=10.1371/issue.pcbi.v09.i02', u'year': 2013, u'month': u'February'}, {u'url': u'http://journals.plos.org/ploscompbiol/issue?id=10.1371/issue.pcbi.v09.i03', u'year': 2013, u'month': u'March'}, {u'url': u'http://journals.plos.org/ploscompbiol/issue?id=10.1371/issue.pcbi.v09.i04', u'year': 2013, u'month': u'April'}, {u'url': u'http://journals.plos.org/ploscompbiol/issue?id=10.1371/issue.pcbi.v09.i05', u'year': 2013, u'month': u'May'}, {u'url': u'http://journals.plos.org/ploscompbiol/issue?id=10.1371/issue.pcbi.v09.i06', u'year': 2013, u'month': u'June'}, {u'url': u'http://journals.plos.org/ploscompbiol/issue?id=10.1371/issue.pcbi.v09.i07', u'year': 2013, u'month': u'July'}, {u'url': u'http://journals.plos.org/ploscompbiol/issue?id=10.1371/issue.pcbi.v09.i08', u'year': 2013, u'month': u'August'}, {u'url': u'http://journals.plos.org/ploscompbiol/issue?id=10.1371/issue.pcbi.v09.i09', u'year': 2013, u'month': u'September'}, {u'url': u'http://journals.plos.org/ploscompbiol/issue?id=10.1371/issue.pcbi.v09.i10', u'year': 2013, u'month': u'October'}, {u'url': u'http://journals.plos.org/ploscompbiol/issue?id=10.1371/issue.pcbi.v09.i11', u'year': 2013, u'month': u'November'}, {u'url': u'http://journals.plos.org/ploscompbiol/issue?id=10.1371/issue.pcbi.v09.i12', u'year': 2013, u'month': u'December'}, {u'url': u'http://journals.plos.org/ploscompbiol/issue?id=10.1371/issue.pcbi.v08.i01', u'year': 2012, u'month': u'January'}, {u'url': u'http://journals.plos.org/ploscompbiol/issue?id=10.1371/issue.pcbi.v08.i02', u'year': 2012, u'month': u'February'}, {u'url': u'http://journals.plos.org/ploscompbiol/issue?id=10.1371/issue.pcbi.v08.i03', u'year': 2012, u'month': u'March'}, {u'url': u'http://journals.plos.org/ploscompbiol/issue?id=10.1371/issue.pcbi.v08.i04', u'year': 2012, u'month': u'April'}, {u'url': u'http://journals.plos.org/ploscompbiol/issue?id=10.1371/issue.pcbi.v08.i05', u'year': 2012, u'month': u'May'}, {u'url': u'http://journals.plos.org/ploscompbiol/issue?id=10.1371/issue.pcbi.v08.i06', u'year': 2012, u'month': u'June'}, {u'url': u'http://journals.plos.org/ploscompbiol/issue?id=10.1371/issue.pcbi.v08.i07', u'year': 2012, u'month': u'July'}, {u'url': u'http://journals.plos.org/ploscompbiol/issue?id=10.1371/issue.pcbi.v08.i08', u'year': 2012, u'month': u'August'}, {u'url': u'http://journals.plos.org/ploscompbiol/issue?id=10.1371/issue.pcbi.v08.i09', u'year': 2012, u'month': u'September'}, {u'url': u'http://journals.plos.org/ploscompbiol/issue?id=10.1371/issue.pcbi.v08.i10', u'year': 2012, u'month': u'October'}, {u'url': u'http://journals.plos.org/ploscompbiol/issue?id=10.1371/issue.pcbi.v08.i11', u'year': 2012, u'month': u'November'}, {u'url': u'http://journals.plos.org/ploscompbiol/issue?id=10.1371/issue.pcbi.v08.i12', u'year': 2012, u'month': u'December'}, {u'url': u'http://journals.plos.org/ploscompbiol/issue?id=10.1371/issue.pcbi.v07.i01', u'year': 2011, u'month': u'January'}, {u'url': u'http://journals.plos.org/ploscompbiol/issue?id=10.1371/issue.pcbi.v07.i02', u'year': 2011, u'month': u'February'}, {u'url': u'http://journals.plos.org/ploscompbiol/issue?id=10.1371/issue.pcbi.v07.i03', u'year': 2011, u'month': u'March'}, {u'url': u'http://journals.plos.org/ploscompbiol/issue?id=10.1371/issue.pcbi.v07.i04', u'year': 2011, u'month': u'April'}, {u'url': u'http://journals.plos.org/ploscompbiol/issue?id=10.1371/issue.pcbi.v07.i05', u'year': 2011, u'month': u'May'}, {u'url': u'http://journals.plos.org/ploscompbiol/issue?id=10.1371/issue.pcbi.v07.i06', u'year': 2011, u'month': u'June'}, {u'url': u'http://journals.plos.org/ploscompbiol/issue?id=10.1371/issue.pcbi.v07.i07', u'year': 2011, u'month': u'July'}, {u'url': u'http://journals.plos.org/ploscompbiol/issue?id=10.1371/issue.pcbi.v07.i08', u'year': 2011, u'month': u'August'}, {u'url': u'http://journals.plos.org/ploscompbiol/issue?id=10.1371/issue.pcbi.v07.i09', u'year': 2011, u'month': u'September'}, {u'url': u'http://journals.plos.org/ploscompbiol/issue?id=10.1371/issue.pcbi.v07.i10', u'year': 2011, u'month': u'October'}, {u'url': u'http://journals.plos.org/ploscompbiol/issue?id=10.1371/issue.pcbi.v07.i11', u'year': 2011, u'month': u'November'}, {u'url': u'http://journals.plos.org/ploscompbiol/issue?id=10.1371/issue.pcbi.v07.i12', u'year': 2011, u'month': u'December'}, {u'url': u'http://journals.plos.org/ploscompbiol/issue?id=10.1371/issue.pcbi.v06.i01', u'year': 2010, u'month': u'January'}, {u'url': u'http://journals.plos.org/ploscompbiol/issue?id=10.1371/issue.pcbi.v06.i02', u'year': 2010, u'month': u'February'}, {u'url': u'http://journals.plos.org/ploscompbiol/issue?id=10.1371/issue.pcbi.v06.i03', u'year': 2010, u'month': u'March'}, {u'url': u'http://journals.plos.org/ploscompbiol/issue?id=10.1371/issue.pcbi.v06.i04', u'year': 2010, u'month': u'April'}, {u'url': u'http://journals.plos.org/ploscompbiol/issue?id=10.1371/issue.pcbi.v06.i05', u'year': 2010, u'month': u'May'}, {u'url': u'http://journals.plos.org/ploscompbiol/issue?id=10.1371/issue.pcbi.v06.i06', u'year': 2010, u'month': u'June'}, {u'url': u'http://journals.plos.org/ploscompbiol/issue?id=10.1371/issue.pcbi.v06.i07', u'year': 2010, u'month': u'July'}, {u'url': u'http://journals.plos.org/ploscompbiol/issue?id=10.1371/issue.pcbi.v06.i08', u'year': 2010, u'month': u'August'}, {u'url': u'http://journals.plos.org/ploscompbiol/issue?id=10.1371/issue.pcbi.v06.i09', u'year': 2010, u'month': u'September'}, {u'url': u'http://journals.plos.org/ploscompbiol/issue?id=10.1371/issue.pcbi.v06.i10', u'year': 2010, u'month': u'October'}, {u'url': u'http://journals.plos.org/ploscompbiol/issue?id=10.1371/issue.pcbi.v06.i11', u'year': 2010, u'month': u'November'}, {u'url': u'http://journals.plos.org/ploscompbiol/issue?id=10.1371/issue.pcbi.v06.i12', u'year': 2010, u'month': u'December'}, {u'url': u'http://journals.plos.org/ploscompbiol/issue?id=10.1371/issue.pcbi.v05.i01', u'year': 2009, u'month': u'January'}, {u'url': u'http://journals.plos.org/ploscompbiol/issue?id=10.1371/issue.pcbi.v05.i02', u'year': 2009, u'month': u'February'}, {u'url': u'http://journals.plos.org/ploscompbiol/issue?id=10.1371/issue.pcbi.v05.i03', u'year': 2009, u'month': u'March'}, {u'url': u'http://journals.plos.org/ploscompbiol/issue?id=10.1371/issue.pcbi.v05.i04', u'year': 2009, u'month': u'April'}, {u'url': u'http://journals.plos.org/ploscompbiol/issue?id=10.1371/issue.pcbi.v05.i05', u'year': 2009, u'month': u'May'}, {u'url': u'http://journals.plos.org/ploscompbiol/issue?id=10.1371/issue.pcbi.v05.i06', u'year': 2009, u'month': u'June'}, {u'url': u'http://journals.plos.org/ploscompbiol/issue?id=10.1371/issue.pcbi.v05.i07', u'year': 2009, u'month': u'July'}, {u'url': u'http://journals.plos.org/ploscompbiol/issue?id=10.1371/issue.pcbi.v05.i08', u'year': 2009, u'month': u'August'}, {u'url': u'http://journals.plos.org/ploscompbiol/issue?id=10.1371/issue.pcbi.v05.i09', u'year': 2009, u'month': u'September'}, {u'url': u'http://journals.plos.org/ploscompbiol/issue?id=10.1371/issue.pcbi.v05.i10', u'year': 2009, u'month': u'October'}, {u'url': u'http://journals.plos.org/ploscompbiol/issue?id=10.1371/issue.pcbi.v05.i11', u'year': 2009, u'month': u'November'}, {u'url': u'http://journals.plos.org/ploscompbiol/issue?id=10.1371/issue.pcbi.v05.i12', u'year': 2009, u'month': u'December'}, {u'url': u'http://journals.plos.org/ploscompbiol/issue?id=10.1371/issue.pcbi.v04.i01', u'year': 2008, u'month': u'January'}, {u'url': u'http://journals.plos.org/ploscompbiol/issue?id=10.1371/issue.pcbi.v04.i02', u'year': 2008, u'month': u'February'}, {u'url': u'http://journals.plos.org/ploscompbiol/issue?id=10.1371/issue.pcbi.v04.i03', u'year': 2008, u'month': u'March'}, {u'url': u'http://journals.plos.org/ploscompbiol/issue?id=10.1371/issue.pcbi.v04.i04', u'year': 2008, u'month': u'April'}, {u'url': u'http://journals.plos.org/ploscompbiol/issue?id=10.1371/issue.pcbi.v04.i05', u'year': 2008, u'month': u'May'}, {u'url': u'http://journals.plos.org/ploscompbiol/issue?id=10.1371/issue.pcbi.v04.i06', u'year': 2008, u'month': u'June'}, {u'url': u'http://journals.plos.org/ploscompbiol/issue?id=10.1371/issue.pcbi.v04.i07', u'year': 2008, u'month': u'July'}, {u'url': u'http://journals.plos.org/ploscompbiol/issue?id=10.1371/issue.pcbi.v04.i08', u'year': 2008, u'month': u'August'}, {u'url': u'http://journals.plos.org/ploscompbiol/issue?id=10.1371/issue.pcbi.v04.i09', u'year': 2008, u'month': u'September'}, {u'url': u'http://journals.plos.org/ploscompbiol/issue?id=10.1371/issue.pcbi.v04.i10', u'year': 2008, u'month': u'October'}, {u'url': u'http://journals.plos.org/ploscompbiol/issue?id=10.1371/issue.pcbi.v04.i11', u'year': 2008, u'month': u'November'}, {u'url': u'http://journals.plos.org/ploscompbiol/issue?id=10.1371/issue.pcbi.v04.i12', u'year': 2008, u'month': u'December'}, {u'url': u'http://journals.plos.org/ploscompbiol/issue?id=10.1371/issue.pcbi.v03.i01', u'year': 2007, u'month': u'January'}, {u'url': u'http://journals.plos.org/ploscompbiol/issue?id=10.1371/issue.pcbi.v03.i02', u'year': 2007, u'month': u'February'}, {u'url': u'http://journals.plos.org/ploscompbiol/issue?id=10.1371/issue.pcbi.v03.i03', u'year': 2007, u'month': u'March'}, {u'url': u'http://journals.plos.org/ploscompbiol/issue?id=10.1371/issue.pcbi.v03.i04', u'year': 2007, u'month': u'April'}, {u'url': u'http://journals.plos.org/ploscompbiol/issue?id=10.1371/issue.pcbi.v03.i05', u'year': 2007, u'month': u'May'}, {u'url': u'http://journals.plos.org/ploscompbiol/issue?id=10.1371/issue.pcbi.v03.i06', u'year': 2007, u'month': u'June'}, {u'url': u'http://journals.plos.org/ploscompbiol/issue?id=10.1371/issue.pcbi.v03.i07', u'year': 2007, u'month': u'July'}, {u'url': u'http://journals.plos.org/ploscompbiol/issue?id=10.1371/issue.pcbi.v03.i08', u'year': 2007, u'month': u'August'}, {u'url': u'http://journals.plos.org/ploscompbiol/issue?id=10.1371/issue.pcbi.v03.i09', u'year': 2007, u'month': u'September'}, {u'url': u'http://journals.plos.org/ploscompbiol/issue?id=10.1371/issue.pcbi.v03.i10', u'year': 2007, u'month': u'October'}, {u'url': u'http://journals.plos.org/ploscompbiol/issue?id=10.1371/issue.pcbi.v03.i11', u'year': 2007, u'month': u'November'}, {u'url': u'http://journals.plos.org/ploscompbiol/issue?id=10.1371/issue.pcbi.v03.i12', u'year': 2007, u'month': u'December'}, {u'url': u'http://journals.plos.org/ploscompbiol/issue?id=10.1371/issue.pcbi.v02.i01', u'year': 2006, u'month': u'January'}, {u'url': u'http://journals.plos.org/ploscompbiol/issue?id=10.1371/issue.pcbi.v02.i02', u'year': 2006, u'month': u'February'}, {u'url': u'http://journals.plos.org/ploscompbiol/issue?id=10.1371/issue.pcbi.v02.i03', u'year': 2006, u'month': u'March'}, {u'url': u'http://journals.plos.org/ploscompbiol/issue?id=10.1371/issue.pcbi.v02.i04', u'year': 2006, u'month': u'April'}, {u'url': u'http://journals.plos.org/ploscompbiol/issue?id=10.1371/issue.pcbi.v02.i05', u'year': 2006, u'month': u'May'}, {u'url': u'http://journals.plos.org/ploscompbiol/issue?id=10.1371/issue.pcbi.v02.i06', u'year': 2006, u'month': u'June'}, {u'url': u'http://journals.plos.org/ploscompbiol/issue?id=10.1371/issue.pcbi.v02.i07', u'year': 2006, u'month': u'July'}, {u'url': u'http://journals.plos.org/ploscompbiol/issue?id=10.1371/issue.pcbi.v02.i08', u'year': 2006, u'month': u'August'}, {u'url': u'http://journals.plos.org/ploscompbiol/issue?id=10.1371/issue.pcbi.v02.i09', u'year': 2006, u'month': u'September'}, {u'url': u'http://journals.plos.org/ploscompbiol/issue?id=10.1371/issue.pcbi.v02.i10', u'year': 2006, u'month': u'October'}, {u'url': u'http://journals.plos.org/ploscompbiol/issue?id=10.1371/issue.pcbi.v02.i11', u'year': 2006, u'month': u'November'}, {u'url': u'http://journals.plos.org/ploscompbiol/issue?id=10.1371/issue.pcbi.v02.i12', u'year': 2006, u'month': u'December'}, {u'url': u'http://journals.plos.org/ploscompbiol/issue?id=10.1371/issue.pcbi.v01.i01', u'year': 2006, u'month': u'June'}, {u'url': u'http://journals.plos.org/ploscompbiol/issue?id=10.1371/issue.pcbi.v01.i02', u'year': 2006, u'month': u'July'}, {u'url': u'http://journals.plos.org/ploscompbiol/issue?id=10.1371/issue.pcbi.v01.i03', u'year': 2006, u'month': u'August'}, {u'url': u'http://journals.plos.org/ploscompbiol/issue?id=10.1371/issue.pcbi.v01.i04', u'year': 2006, u'month': u'September'}, {u'url': u'http://journals.plos.org/ploscompbiol/issue?id=10.1371/issue.pcbi.v01.i05', u'year': 2006, u'month': u'October'}, {u'url': u'http://journals.plos.org/ploscompbiol/issue?id=10.1371/issue.pcbi.v01.i06', u'year': 2006, u'month': u'November'}, {u'url': u'http://journals.plos.org/ploscompbiol/issue?id=10.1371/issue.pcbi.v01.i07', u'year': 2006, u'month': u'December'}]\n"
     ]
    }
   ],
   "source": [
    "# load the list of editions conveniently saved as json\n",
    "\n",
    "import json\n",
    "\n",
    "load_path = \"data/ploscompbio_editions.json\"\n",
    "\n",
    "with open(load_path, 'r') as infile:  \n",
    "    list_of_editions = json.load(infile)\n",
    "    \n",
    "print(list_of_editions)"
   ]
  },
  {
   "cell_type": "code",
   "execution_count": 3,
   "metadata": {},
   "outputs": [],
   "source": [
    "def process_url(url,html):\n",
    "    print(url)\n",
    "    print('testing processing pipeline')\n",
    "    "
   ]
  },
  {
   "cell_type": "code",
   "execution_count": 4,
   "metadata": {},
   "outputs": [
    {
     "name": "stderr",
     "output_type": "stream",
     "text": [
      "ERROR:root:An unexpected error occurred while tokenizing input\n",
      "The following traceback may be corrupted or invalid\n",
      "The error message is: ('EOF in multi-line string', (1, 20))\n",
      "\n"
     ]
    },
    {
     "ename": "OperationalError",
     "evalue": "table articles already exists",
     "output_type": "error",
     "traceback": [
      "\u001b[1;31m---------------------------------------------------------------------------\u001b[0m",
      "\u001b[1;31mOperationalError\u001b[0m                          Traceback (most recent call last)",
      "\u001b[1;32m<ipython-input-4-b90928463cff>\u001b[0m in \u001b[0;36m<module>\u001b[1;34m()\u001b[0m\n\u001b[0;32m      7\u001b[0m cursor.execute('''CREATE TABLE articles(id INTEGER PRIMARYKEY,\n\u001b[0;32m      8\u001b[0m                     url TEXT, authors TEXT, date TEXT, title TEXT, abstract TEXT, author_summary TEXT)\n\u001b[1;32m----> 9\u001b[1;33m                     ''')\n\u001b[0m\u001b[0;32m     10\u001b[0m \u001b[1;33m\u001b[0m\u001b[0m\n\u001b[0;32m     11\u001b[0m \u001b[1;33m\u001b[0m\u001b[0m\n",
      "\u001b[1;31mOperationalError\u001b[0m: table articles already exists"
     ]
    }
   ],
   "source": [
    "# initialize database\n",
    "\n",
    "import sqlite3\n",
    "\n",
    "db = sqlite3.connect('data/articles2.db')\n",
    "cursor = db.cursor()\n",
    "cursor.execute('''CREATE TABLE articles2(id INTEGER PRIMARYKEY,\n",
    "                    url TEXT, authors TEXT, date TEXT, title TEXT, abstract TEXT, author_summary TEXT)\n",
    "                    ''')\n",
    "\n",
    "\n",
    "db.commit()\n"
   ]
  },
  {
   "cell_type": "code",
   "execution_count": null,
   "metadata": {},
   "outputs": [],
   "source": [
    "edition_urls = [ed['url'] for ed in list_of_editions]\n",
    "edition_urls = edition_urls\n",
    "\n",
    "items = [ (url,process_url) for url in edition_urls]\n",
    "\n",
    "signal.signal(signal.SIGINT, signal.SIG_DFL)\n",
    "print('press ctrl+c to quit\\n')\n",
    "app = QtGui.QApplication(sys.argv)\n",
    "webpage = WebPage(db)\n",
    "webpage.process(items)\n",
    "sys.exit(app.exec_())\n"
   ]
  },
  {
   "cell_type": "code",
   "execution_count": null,
   "metadata": {},
   "outputs": [],
   "source": []
  }
 ],
 "metadata": {
  "kernelspec": {
   "display_name": "Python 2",
   "language": "python",
   "name": "python2"
  },
  "language_info": {
   "codemirror_mode": {
    "name": "ipython",
    "version": 2
   },
   "file_extension": ".py",
   "mimetype": "text/x-python",
   "name": "python",
   "nbconvert_exporter": "python",
   "pygments_lexer": "ipython2",
   "version": "2.7.13"
  }
 },
 "nbformat": 4,
 "nbformat_minor": 2
}
